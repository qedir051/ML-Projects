{
  "nbformat": 4,
  "nbformat_minor": 0,
  "metadata": {
    "colab": {
      "provenance": [],
      "gpuType": "V28",
      "authorship_tag": "ABX9TyO/FC1P+7fkE3pUNxxvF3/t",
      "include_colab_link": true
    },
    "kernelspec": {
      "name": "python3",
      "display_name": "Python 3"
    },
    "language_info": {
      "name": "python"
    },
    "accelerator": "TPU"
  },
  "cells": [
    {
      "cell_type": "markdown",
      "metadata": {
        "id": "view-in-github",
        "colab_type": "text"
      },
      "source": [
        "<a href=\"https://colab.research.google.com/github/qedir051/ML-Projects/blob/main/MNIST_Ensemble.ipynb\" target=\"_parent\"><img src=\"https://colab.research.google.com/assets/colab-badge.svg\" alt=\"Open In Colab\"/></a>"
      ]
    },
    {
      "cell_type": "code",
      "execution_count": null,
      "metadata": {
        "id": "aaoQLdq25RHc"
      },
      "outputs": [],
      "source": [
        "from sklearn.datasets import fetch_openml\n",
        "import numpy as np\n",
        "import pandas as pd\n",
        "import matplotlib.pyplot as plt\n",
        "from sklearn.model_selection import train_test_split\n",
        "from sklearn.linear_model import LogisticRegression\n",
        "from sklearn.ensemble import RandomForestClassifier, ExtraTreesClassifier\n",
        "from sklearn.svm import SVC\n",
        "from sklearn.metrics import accuracy_score"
      ]
    },
    {
      "cell_type": "code",
      "source": [
        "mnist = fetch_openml('mnist_784', as_frame=False)\n",
        "\n",
        "x_train = mnist.data[:50000]\n",
        "y_train = mnist.target[:50000]\n",
        "x_test = mnist.data[50000:60000]\n",
        "y_test = mnist.target[50000:60000]\n",
        "x_val = mnist.data[60000:70000]\n",
        "y_val = mnist.target[60000:70000]\n"
      ],
      "metadata": {
        "colab": {
          "base_uri": "https://localhost:8080/"
        },
        "id": "b6bU3ohD6KTP",
        "outputId": "4b09ff95-76e0-48ac-8c10-d39e723ed0fd"
      },
      "execution_count": null,
      "outputs": [
        {
          "output_type": "stream",
          "name": "stderr",
          "text": [
            "/usr/local/lib/python3.10/dist-packages/sklearn/datasets/_openml.py:968: FutureWarning: The default value of `parser` will change from `'liac-arff'` to `'auto'` in 1.4. You can set `parser='auto'` to silence this warning. Therefore, an `ImportError` will be raised from 1.4 if the dataset is dense and pandas is not installed. Note that the pandas parser may return different data types. See the Notes Section in fetch_openml's API doc for details.\n",
            "  warn(\n"
          ]
        }
      ]
    },
    {
      "cell_type": "code",
      "source": [
        "x_train = mnist.data[:20000]\n",
        "y_train = mnist.target[:20000]\n",
        "\n",
        "x_val = mnist.data[60000:65000]\n",
        "y_val = mnist.target[60000:65000]"
      ],
      "metadata": {
        "id": "wAaMkv_i5IRj"
      },
      "execution_count": null,
      "outputs": []
    },
    {
      "cell_type": "code",
      "source": [
        "rfc = RandomForestClassifier()\n",
        "etc = ExtraTreesClassifier()\n",
        "svc = SVC()\n",
        "models = [rfc, etc, svc]\n",
        "for i in models:\n",
        "    i.fit(x_train, y_train)\n",
        "    y_pred = i.predict(x_val)\n",
        "    print(i,accuracy_score(y_val, y_pred))"
      ],
      "metadata": {
        "colab": {
          "base_uri": "https://localhost:8080/"
        },
        "id": "AFm4rA8B62Y0",
        "outputId": "a2707ec7-d055-463f-b0aa-fe2efba907e2"
      },
      "execution_count": null,
      "outputs": [
        {
          "output_type": "stream",
          "name": "stdout",
          "text": [
            "RandomForestClassifier() 0.9414\n",
            "ExtraTreesClassifier() 0.9438\n",
            "SVC() 0.957\n"
          ]
        }
      ]
    },
    {
      "cell_type": "code",
      "source": [
        "from sklearn.ensemble import VotingClassifier\n",
        "\n",
        "voting_clf = VotingClassifier(estimators=[\n",
        "    ('rfc', RandomForestClassifier(random_state=42)),\n",
        "    ('etc', ExtraTreesClassifier(random_state=42)),\n",
        "    ('svc', SVC(random_state=42))\n",
        "])\n",
        "\n",
        "voting_clf.fit(x_train, y_train)\n",
        "y_pred = voting_clf.predict(x_val)\n",
        "print(accuracy_score(y_val, y_pred))"
      ],
      "metadata": {
        "colab": {
          "base_uri": "https://localhost:8080/"
        },
        "id": "QiUe2ipc7w0i",
        "outputId": "5b0ec18a-cd19-4f4e-910a-36868a440aba"
      },
      "execution_count": null,
      "outputs": [
        {
          "output_type": "stream",
          "name": "stdout",
          "text": [
            "0.9466\n"
          ]
        }
      ]
    },
    {
      "cell_type": "code",
      "source": [
        "voting_clf.voting = \"soft\"\n",
        "voting_clf.named_estimators[\"svc\"].probability = True\n",
        "voting_clf.fit(x_train, y_train)\n",
        "voting_clf.score(x_val, y_val)"
      ],
      "metadata": {
        "colab": {
          "base_uri": "https://localhost:8080/"
        },
        "id": "WIMBpy0uxnac",
        "outputId": "85ed5528-e81e-4f2c-836d-34c307633442"
      },
      "execution_count": null,
      "outputs": [
        {
          "output_type": "execute_result",
          "data": {
            "text/plain": [
              "0.9558"
            ]
          },
          "metadata": {},
          "execution_count": 6
        }
      ]
    },
    {
      "cell_type": "code",
      "source": [],
      "metadata": {
        "id": "w5mgJsyV9jkH"
      },
      "execution_count": null,
      "outputs": []
    }
  ]
}